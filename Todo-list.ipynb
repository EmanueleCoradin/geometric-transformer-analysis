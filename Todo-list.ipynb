{
 "cells": [
  {
   "cell_type": "markdown",
   "id": "40d4dfdb-2cb7-409c-ac45-d6ae0e41dc29",
   "metadata": {},
   "source": [
    "### To do:\n",
    "\n",
    "- Fare il plot dell'evoluzione della dimensionalità con l'SVD\n",
    "- Utilizzare, al posto della SVD, il metodo che fa riferimento alla matrice delle distanze\n",
    "- Ragionare su come studiare la dinamica dell'ultimo token (end-of-sentence, token 13)\n",
    "- Verificare che l'intera dinamica sia effettivamente determinata da quella del token 13\n",
    "- Cercare a che punto avviene la skip-connection (la stiamo già visualizzando, o si trova in un tensore a parte?)\n",
    "- Studiare l'ultimo step del modello (post-decoder 12) per prevedere il token successivo"
   ]
  }
 ],
 "metadata": {
  "kernelspec": {
   "display_name": "Python 3 (ipykernel)",
   "language": "python",
   "name": "python3"
  },
  "language_info": {
   "codemirror_mode": {
    "name": "ipython",
    "version": 3
   },
   "file_extension": ".py",
   "mimetype": "text/x-python",
   "name": "python",
   "nbconvert_exporter": "python",
   "pygments_lexer": "ipython3",
   "version": "3.12.2"
  }
 },
 "nbformat": 4,
 "nbformat_minor": 5
}
